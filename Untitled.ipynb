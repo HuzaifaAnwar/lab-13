{
 "cells": [
  {
   "cell_type": "code",
   "execution_count": 1,
   "metadata": {},
   "outputs": [
    {
     "name": "stdout",
     "output_type": "stream",
     "text": [
      "Random Choice:  1\n",
      "Random number from given Range: 27\n",
      "random seed of number 12 is: 0.4745706786885481\n",
      "random seed of number 15 is: 0.965242141552123\n",
      "24739561"
     ]
    }
   ],
   "source": [
    "import random\n",
    "# randon.choice choose random number from given list\n",
    "list = [1,3,4,2,6,5,7,9]\n",
    "print(\"Random Choice: \", random.choice(list))\n",
    "\n",
    "# random.randrange gives random number from given range (start, end, jump)\n",
    "print(\"Random number from given Range:\", random.randrange(0,30,3))\n",
    "\n",
    "#random.seed maps the number with the given seed, and it will alway remain same\n",
    "random.seed(12)\n",
    "print(\"random seed of number 12 is:\", random.random())\n",
    "\n",
    "random.seed(15)\n",
    "print(\"random seed of number 15 is:\", random.random())\n",
    "\n",
    "#random.shuffles shuffle the number\n",
    "random.shuffle(list)\n",
    "for i in range(0, len(list)):\n",
    "    print(list[i], end = \"\")\n"
   ]
  },
  {
   "cell_type": "code",
   "execution_count": 2,
   "metadata": {},
   "outputs": [
    {
     "name": "stdout",
     "output_type": "stream",
     "text": [
      "you rolled 0 and 5\n",
      "total 5\n"
     ]
    }
   ],
   "source": [
    "import random\n",
    "\n",
    "die1 = random.randrange(6)\n",
    "die2 = random.randrange(6)\n",
    "\n",
    "total = die1 + die2\n",
    "\n",
    "print(\"you rolled {} and {}\".format(die1, die2) + \"\\ntotal {}\".format(total))\n"
   ]
  },
  {
   "cell_type": "code",
   "execution_count": 3,
   "metadata": {},
   "outputs": [
    {
     "name": "stdout",
     "output_type": "stream",
     "text": [
      "['MY', 'NAME', 'IS', 'MUHAMMAD', 'HUZAIFA', 'ANWAR', 'I', 'STUDY', 'IN', 'UIT']\n",
      "Total Number of vowels in file: 17\n"
     ]
    }
   ],
   "source": [
    "import re\n",
    "vowels = 0\n",
    "infile = open('huzaifa.txt', 'r+')\n",
    "content = infile.read()\n",
    "words = content.split()\n",
    "print(words)\n",
    "\n",
    "for i in 'AEIOUaeiou':\n",
    "    for word in words:\n",
    "        vowels = len(re.findall(i, word)) + vowels\n",
    "        \n",
    "print(\"Total Number of vowels in file:\", vowels)\n"
   ]
  },
  {
   "cell_type": "code",
   "execution_count": 4,
   "metadata": {},
   "outputs": [
    {
     "name": "stdout",
     "output_type": "stream",
     "text": [
      "my name is:  Huzaifa\n",
      "15\n"
     ]
    }
   ],
   "source": [
    "def function1():\n",
    "    global name\n",
    "    name = \"Huzaifa\"\n",
    "    return\n",
    "function1()\n",
    "\n",
    "def function2():\n",
    "    print(\"my name is: \",name)\n",
    "    return\n",
    "function2()\n",
    "\n",
    "# calling local varialble in other function\n",
    "def function3():\n",
    "    a = 10\n",
    "    b = 5\n",
    "    \n",
    "    def add():\n",
    "        add = a + b\n",
    "        print(add)\n",
    "        return\n",
    "    add()\n",
    "    return\n",
    "function3()\n"
   ]
  }
 ],
 "metadata": {
  "kernelspec": {
   "display_name": "Python 3",
   "language": "python",
   "name": "python3"
  },
  "language_info": {
   "codemirror_mode": {
    "name": "ipython",
    "version": 3
   },
   "file_extension": ".py",
   "mimetype": "text/x-python",
   "name": "python",
   "nbconvert_exporter": "python",
   "pygments_lexer": "ipython3",
   "version": "3.7.4"
  }
 },
 "nbformat": 4,
 "nbformat_minor": 2
}
